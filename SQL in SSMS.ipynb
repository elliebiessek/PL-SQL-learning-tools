{
 "cells": [
  {
   "cell_type": "markdown",
   "metadata": {},
   "source": [
    "<div class=\"alert alert-info alertinfo\" style=\"margin-top: 0px\">\n",
    "<h1>  SQL Tools (SQL Server Management studio) </h1>\n",
    "</div>"
   ]
  },
  {
   "cell_type": "markdown",
   "metadata": {},
   "source": [
    "<div class=\"alert-danger\" style=\"margin-top: 0px\">\n",
    "<h1> Read me first </h1>\n",
    "</div>\n",
    "This is my shortcut file for quick \"copy and paste\" or simply to check the syntax of sql statements. \n",
    "The DBMS that I'm using is SQL Server Management studio so if you work in different DBMS some syntax might be different."
   ]
  },
  {
   "cell_type": "markdown",
   "metadata": {},
   "source": [
    "<div class=\"alert-success\" style=\"margin-top: 0px\">\n",
    "<h1> Retrieving Data </h1>\n",
    "</div>"
   ]
  },
  {
   "cell_type": "code",
   "execution_count": null,
   "metadata": {},
   "outputs": [],
   "source": [
    "SELECT prod_id, prod_name, prod_price\n",
    "FROM Products;"
   ]
  },
  {
   "cell_type": "code",
   "execution_count": null,
   "metadata": {},
   "outputs": [],
   "source": [
    "# Caution: Can’t Be Partially DISTINCT -it applies to all columns, not just the one it precedes. \n",
    "SELECT DISTINCT vend_id, prod_name\n",
    "FROM Products;"
   ]
  },
  {
   "cell_type": "code",
   "execution_count": null,
   "metadata": {},
   "outputs": [],
   "source": [
    "SELECT TOP 5 prod_name\n",
    "FROM Products; "
   ]
  },
  {
   "cell_type": "code",
   "execution_count": null,
   "metadata": {},
   "outputs": [],
   "source": [
    "# DOESN'T WORK IN SSMS\n",
    "SELECT prod_name\n",
    "FROM Products\n",
    "LIMIT 5 OFFSET 5;"
   ]
  },
  {
   "cell_type": "markdown",
   "metadata": {},
   "source": [
    "<div class=\"alert-success\" style=\"margin-top: 0px\">\n",
    "<h1> ORDER BY </h1>\n",
    "</div>"
   ]
  },
  {
   "cell_type": "code",
   "execution_count": null,
   "metadata": {},
   "outputs": [],
   "source": [
    "# The following code retrieves three columns and sorts the results by two of them—\n",
    "# first by price (in descending order) and then by name (in ascending order as ASC is default).\n",
    "SELECT prod_id, prod_price, prod_name\n",
    "FROM Products\n",
    "ORDER BY prod_price DESC, prod_name;"
   ]
  },
  {
   "cell_type": "markdown",
   "metadata": {},
   "source": [
    "<div class=\"alert-success\" style=\"margin-top: 0px\">\n",
    "<h1> WHERE </h1>\n",
    "</div>"
   ]
  },
  {
   "cell_type": "code",
   "execution_count": null,
   "metadata": {},
   "outputs": [],
   "source": [
    "# BETWEEN\n",
    "SELECT prod_name, prod_price\n",
    "FROM Products\n",
    "WHERE prod_price BETWEEN 5 AND 10;"
   ]
  },
  {
   "cell_type": "code",
   "execution_count": null,
   "metadata": {},
   "outputs": [],
   "source": [
    "# IS NULL\n",
    "SELECT cust_name\n",
    "FROM Customers\n",
    "WHERE cust_email IS NULL;"
   ]
  },
  {
   "cell_type": "code",
   "execution_count": null,
   "metadata": {},
   "outputs": [],
   "source": [
    "# IN\n",
    "SELECT prod_name, prod_price\n",
    "FROM Products\n",
    "WHERE vend_id  IN ('DLL01','BRS01')\n",
    "ORDER BY prod_name;"
   ]
  },
  {
   "cell_type": "code",
   "execution_count": null,
   "metadata": {},
   "outputs": [],
   "source": [
    "# NOT\n",
    "SELECT prod_name\n",
    "FROM Products\n",
    "WHERE NOT vend_id  = 'DLL01'\n",
    "ORDER BY prod_name;"
   ]
  },
  {
   "cell_type": "code",
   "execution_count": null,
   "metadata": {},
   "outputs": [],
   "source": [
    "# LIKE (in SMSS is not case sensitive)\n",
    "SELECT Name, Town\n",
    "FROM [dbo].[BusinessInformation]\n",
    "WHERE Town LIKE 'bed%'\n",
    "\n",
    "# LIKE (in SMSS [JM]% stands for 'first letter is not J nor M')\n",
    "SELECT cust_contact\n",
    "FROM Customers\n",
    "WHERE cust_contact LIKE '[^JM]%'\n",
    "ORDER BY cust_contact;"
   ]
  },
  {
   "cell_type": "markdown",
   "metadata": {},
   "source": [
    "<div class=\"alert-success\" style=\"margin-top: 0px\">\n",
    "<h1> CALCULATED FIELDS </h1>\n",
    "</div>"
   ]
  },
  {
   "cell_type": "code",
   "execution_count": null,
   "metadata": {},
   "outputs": [],
   "source": [
    "SELECT vend_name + ' (' + vend_country + ')' AS vend_title\n",
    "FROM Vendors\n",
    "ORDER BY vend_name;"
   ]
  },
  {
   "cell_type": "code",
   "execution_count": null,
   "metadata": {},
   "outputs": [],
   "source": [
    "SELECT RTRIM(vend_name) + ' (' + RTRIM(vend_country) + ')' AS vend_title\n",
    "FROM Vendors\n",
    "ORDER BY vend_name;"
   ]
  },
  {
   "cell_type": "code",
   "execution_count": null,
   "metadata": {},
   "outputs": [],
   "source": [
    "SELECT prod_id,\n",
    "       quantity,\n",
    "       item_price,\n",
    "       quantity*item_price AS expanded_price\n",
    "FROM OrderItems\n",
    "WHERE order_num = 20008;"
   ]
  },
  {
   "cell_type": "markdown",
   "metadata": {},
   "source": [
    "<div class=\"alert-success\" style=\"margin-top: 0px\">\n",
    "<h1> FUNCTIONS </h1>\n",
    "</div>"
   ]
  },
  {
   "cell_type": "code",
   "execution_count": null,
   "metadata": {},
   "outputs": [],
   "source": [
    "# aggregate functions\n",
    "AVG()\n",
    "COUNT()\n",
    "MAX()\n",
    "MIN()\n",
    "SUM()"
   ]
  },
  {
   "cell_type": "code",
   "execution_count": null,
   "metadata": {},
   "outputs": [],
   "source": [
    "# string functions\n",
    "SUBSTRING()\n",
    "LEFT()\n",
    "LENGTH() DATALENGTH() LEN()\n",
    "LOWER()\n",
    "RTRIM() LTRIM() TRIM()\n",
    "SOUNDEX()\n",
    "UPPER()"
   ]
  },
  {
   "cell_type": "code",
   "execution_count": null,
   "metadata": {},
   "outputs": [],
   "source": [
    "# numeric functions\n",
    "ABS()\n",
    "COS()\n",
    "EXP()\n",
    "PI()\n",
    "SIN()\n",
    "SQRT()\n",
    "TAN()"
   ]
  },
  {
   "cell_type": "code",
   "execution_count": null,
   "metadata": {},
   "outputs": [],
   "source": [
    "# date functions\n",
    "GETDATE()\n",
    "DATEPART()"
   ]
  },
  {
   "cell_type": "code",
   "execution_count": null,
   "metadata": {},
   "outputs": [],
   "source": [
    "# data type conversion\n",
    "CONVERT()"
   ]
  },
  {
   "cell_type": "code",
   "execution_count": null,
   "metadata": {},
   "outputs": [],
   "source": [
    "SELECT AVG(prod_price) AS avg_price\n",
    "FROM Products\n",
    "WHERE vend_id = 'DLL01';"
   ]
  },
  {
   "cell_type": "code",
   "execution_count": null,
   "metadata": {},
   "outputs": [],
   "source": [
    "SELECT COUNT(*) AS num_cust # will count nans (DISTINCT will not work)\n",
    "FROM Customers;\n",
    "\n",
    "SELECT COUNT(cust_email) AS num_cust # will not count nans (DISTINCT will work)\n",
    "FROM Customers;"
   ]
  },
  {
   "cell_type": "code",
   "execution_count": null,
   "metadata": {},
   "outputs": [],
   "source": [
    "# To retrieve a list of all orders made in 2012 \n",
    "SELECT order_num\n",
    "FROM Orders\n",
    "WHERE DATEPART(yy, order_date) = 2012;"
   ]
  },
  {
   "cell_type": "markdown",
   "metadata": {},
   "source": [
    "<div class=\"alert-success\" style=\"margin-top: 0px\">\n",
    "<h1> GROUP BY </h1>\n",
    "</div>"
   ]
  },
  {
   "cell_type": "code",
   "execution_count": null,
   "metadata": {},
   "outputs": [],
   "source": []
  }
 ],
 "metadata": {
  "kernelspec": {
   "display_name": "Python 3",
   "language": "python",
   "name": "python3"
  },
  "language_info": {
   "codemirror_mode": {
    "name": "ipython",
    "version": 3
   },
   "file_extension": ".py",
   "mimetype": "text/x-python",
   "name": "python",
   "nbconvert_exporter": "python",
   "pygments_lexer": "ipython3",
   "version": "3.8.5"
  }
 },
 "nbformat": 4,
 "nbformat_minor": 4
}
